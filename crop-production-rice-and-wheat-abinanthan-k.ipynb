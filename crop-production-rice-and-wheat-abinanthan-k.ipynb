{
 "cells": [
  {
   "cell_type": "code",
   "execution_count": 1,
   "id": "e9befbcb",
   "metadata": {
    "_cell_guid": "b1076dfc-b9ad-4769-8c92-a6c4dae69d19",
    "_uuid": "8f2839f25d086af736a60e9eeb907d3b93b6e0e5",
    "execution": {
     "iopub.execute_input": "2021-11-01T12:33:10.393164Z",
     "iopub.status.busy": "2021-11-01T12:33:10.391969Z",
     "iopub.status.idle": "2021-11-01T12:33:10.411516Z",
     "shell.execute_reply": "2021-11-01T12:33:10.412277Z",
     "shell.execute_reply.started": "2021-11-01T12:26:03.036333Z"
    },
    "papermill": {
     "duration": 0.045066,
     "end_time": "2021-11-01T12:33:10.412645",
     "exception": false,
     "start_time": "2021-11-01T12:33:10.367579",
     "status": "completed"
    },
    "tags": []
   },
   "outputs": [
    {
     "name": "stdout",
     "output_type": "stream",
     "text": [
      "/kaggle/input/crop-production-in-india/crop_production.csv\n"
     ]
    }
   ],
   "source": [
    "# This Python 3 environment comes with many helpful analytics libraries installed\n",
    "# It is defined by the kaggle/python Docker image: https://github.com/kaggle/docker-python\n",
    "# For example, here's several helpful packages to load\n",
    "\n",
    "import numpy as np # linear algebra\n",
    "import pandas # data processing, CSV file I/O (e.g. pd.read_csv)\n",
    "\n",
    "# Input data files are available in the read-only \"../input/\" directory\n",
    "# For example, running this (by clicking run or pressing Shift+Enter) will list all files under the input directory\n",
    "\n",
    "import os\n",
    "for dirname, _, filenames in os.walk('/kaggle/input'):\n",
    "    for filename in filenames:\n",
    "        print(os.path.join(dirname, filename))\n",
    "\n",
    "# You can write up to 20GB to the current directory (/kaggle/working/) that gets preserved as output when you create a version using \"Save & Run All\" \n",
    "# You can also write temporary files to /kaggle/temp/, but they won't be saved outside of the current session"
   ]
  },
  {
   "cell_type": "markdown",
   "id": "2d1a3fae",
   "metadata": {
    "papermill": {
     "duration": 0.019764,
     "end_time": "2021-11-01T12:33:10.453814",
     "exception": false,
     "start_time": "2021-11-01T12:33:10.434050",
     "status": "completed"
    },
    "tags": []
   },
   "source": [
    "# Importing Necessary Tools"
   ]
  },
  {
   "cell_type": "code",
   "execution_count": 1,
   "id": "5328a06b",
   "metadata": {
    "execution": {
     "iopub.execute_input": "2021-11-01T12:33:10.496934Z",
     "iopub.status.busy": "2021-11-01T12:33:10.496307Z",
     "iopub.status.idle": "2021-11-01T12:33:11.351824Z",
     "shell.execute_reply": "2021-11-01T12:33:11.351233Z",
     "shell.execute_reply.started": "2021-11-01T12:26:03.048106Z"
    },
    "papermill": {
     "duration": 0.878063,
     "end_time": "2021-11-01T12:33:11.352010",
     "exception": false,
     "start_time": "2021-11-01T12:33:10.473947",
     "status": "completed"
    },
    "tags": []
   },
   "outputs": [],
   "source": [
    "import pandas\n",
    "import numpy\n",
    "import matplotlib.pyplot as plt\n",
    "import seaborn as sns\n",
    "%matplotlib inline"
   ]
  },
  {
   "cell_type": "markdown",
   "id": "c7499179",
   "metadata": {
    "papermill": {
     "duration": 0.020453,
     "end_time": "2021-11-01T12:33:11.392558",
     "exception": false,
     "start_time": "2021-11-01T12:33:11.372105",
     "status": "completed"
    },
    "tags": []
   },
   "source": [
    "**Data Loading :**"
   ]
  },
  {
   "cell_type": "code",
   "execution_count": 2,
   "id": "57fe37b3",
   "metadata": {
    "execution": {
     "iopub.execute_input": "2021-11-01T12:33:11.438949Z",
     "iopub.status.busy": "2021-11-01T12:33:11.438093Z",
     "iopub.status.idle": "2021-11-01T12:33:11.961145Z",
     "shell.execute_reply": "2021-11-01T12:33:11.960274Z",
     "shell.execute_reply.started": "2021-11-01T12:26:03.061589Z"
    },
    "papermill": {
     "duration": 0.548498,
     "end_time": "2021-11-01T12:33:11.961291",
     "exception": false,
     "start_time": "2021-11-01T12:33:11.412793",
     "status": "completed"
    },
    "tags": []
   },
   "outputs": [
    {
     "data": {
      "text/html": [
       "<div>\n",
       "<style scoped>\n",
       "    .dataframe tbody tr th:only-of-type {\n",
       "        vertical-align: middle;\n",
       "    }\n",
       "\n",
       "    .dataframe tbody tr th {\n",
       "        vertical-align: top;\n",
       "    }\n",
       "\n",
       "    .dataframe thead th {\n",
       "        text-align: right;\n",
       "    }\n",
       "</style>\n",
       "<table border=\"1\" class=\"dataframe\">\n",
       "  <thead>\n",
       "    <tr style=\"text-align: right;\">\n",
       "      <th></th>\n",
       "      <th>State_Name</th>\n",
       "      <th>District_Name</th>\n",
       "      <th>Crop_Year</th>\n",
       "      <th>Season</th>\n",
       "      <th>Crop</th>\n",
       "      <th>Area</th>\n",
       "      <th>Production</th>\n",
       "    </tr>\n",
       "  </thead>\n",
       "  <tbody>\n",
       "    <tr>\n",
       "      <th>0</th>\n",
       "      <td>Andaman and Nicobar Islands</td>\n",
       "      <td>NICOBARS</td>\n",
       "      <td>2000</td>\n",
       "      <td>Kharif</td>\n",
       "      <td>Arecanut</td>\n",
       "      <td>1254.0</td>\n",
       "      <td>2000.0</td>\n",
       "    </tr>\n",
       "    <tr>\n",
       "      <th>1</th>\n",
       "      <td>Andaman and Nicobar Islands</td>\n",
       "      <td>NICOBARS</td>\n",
       "      <td>2000</td>\n",
       "      <td>Kharif</td>\n",
       "      <td>Other Kharif pulses</td>\n",
       "      <td>2.0</td>\n",
       "      <td>1.0</td>\n",
       "    </tr>\n",
       "    <tr>\n",
       "      <th>2</th>\n",
       "      <td>Andaman and Nicobar Islands</td>\n",
       "      <td>NICOBARS</td>\n",
       "      <td>2000</td>\n",
       "      <td>Kharif</td>\n",
       "      <td>Rice</td>\n",
       "      <td>102.0</td>\n",
       "      <td>321.0</td>\n",
       "    </tr>\n",
       "    <tr>\n",
       "      <th>3</th>\n",
       "      <td>Andaman and Nicobar Islands</td>\n",
       "      <td>NICOBARS</td>\n",
       "      <td>2000</td>\n",
       "      <td>Whole Year</td>\n",
       "      <td>Banana</td>\n",
       "      <td>176.0</td>\n",
       "      <td>641.0</td>\n",
       "    </tr>\n",
       "    <tr>\n",
       "      <th>4</th>\n",
       "      <td>Andaman and Nicobar Islands</td>\n",
       "      <td>NICOBARS</td>\n",
       "      <td>2000</td>\n",
       "      <td>Whole Year</td>\n",
       "      <td>Cashewnut</td>\n",
       "      <td>720.0</td>\n",
       "      <td>165.0</td>\n",
       "    </tr>\n",
       "    <tr>\n",
       "      <th>5</th>\n",
       "      <td>Andaman and Nicobar Islands</td>\n",
       "      <td>NICOBARS</td>\n",
       "      <td>2000</td>\n",
       "      <td>Whole Year</td>\n",
       "      <td>Coconut</td>\n",
       "      <td>18168.0</td>\n",
       "      <td>65100000.0</td>\n",
       "    </tr>\n",
       "    <tr>\n",
       "      <th>6</th>\n",
       "      <td>Andaman and Nicobar Islands</td>\n",
       "      <td>NICOBARS</td>\n",
       "      <td>2000</td>\n",
       "      <td>Whole Year</td>\n",
       "      <td>Dry ginger</td>\n",
       "      <td>36.0</td>\n",
       "      <td>100.0</td>\n",
       "    </tr>\n",
       "  </tbody>\n",
       "</table>\n",
       "</div>"
      ],
      "text/plain": [
       "                    State_Name District_Name  Crop_Year       Season  \\\n",
       "0  Andaman and Nicobar Islands      NICOBARS       2000  Kharif        \n",
       "1  Andaman and Nicobar Islands      NICOBARS       2000  Kharif        \n",
       "2  Andaman and Nicobar Islands      NICOBARS       2000  Kharif        \n",
       "3  Andaman and Nicobar Islands      NICOBARS       2000  Whole Year    \n",
       "4  Andaman and Nicobar Islands      NICOBARS       2000  Whole Year    \n",
       "5  Andaman and Nicobar Islands      NICOBARS       2000  Whole Year    \n",
       "6  Andaman and Nicobar Islands      NICOBARS       2000  Whole Year    \n",
       "\n",
       "                  Crop     Area  Production  \n",
       "0             Arecanut   1254.0      2000.0  \n",
       "1  Other Kharif pulses      2.0         1.0  \n",
       "2                 Rice    102.0       321.0  \n",
       "3               Banana    176.0       641.0  \n",
       "4            Cashewnut    720.0       165.0  \n",
       "5             Coconut   18168.0  65100000.0  \n",
       "6           Dry ginger     36.0       100.0  "
      ]
     },
     "execution_count": 2,
     "metadata": {},
     "output_type": "execute_result"
    }
   ],
   "source": [
    "data = pandas.read_csv(\"crop_production.csv\")\n",
    "data.head(7)"
   ]
  },
  {
   "cell_type": "code",
   "execution_count": 3,
   "id": "606d4a01",
   "metadata": {
    "execution": {
     "iopub.execute_input": "2021-11-01T12:33:12.006451Z",
     "iopub.status.busy": "2021-11-01T12:33:12.005794Z",
     "iopub.status.idle": "2021-11-01T12:33:12.269045Z",
     "shell.execute_reply": "2021-11-01T12:33:12.269584Z",
     "shell.execute_reply.started": "2021-11-01T12:26:03.335386Z"
    },
    "papermill": {
     "duration": 0.2876,
     "end_time": "2021-11-01T12:33:12.269749",
     "exception": false,
     "start_time": "2021-11-01T12:33:11.982149",
     "status": "completed"
    },
    "tags": []
   },
   "outputs": [
    {
     "data": {
      "text/plain": [
       "State_Name       0\n",
       "District_Name    0\n",
       "Crop_Year        0\n",
       "Season           0\n",
       "Crop             0\n",
       "Area             0\n",
       "Production       0\n",
       "dtype: int64"
      ]
     },
     "execution_count": 3,
     "metadata": {},
     "output_type": "execute_result"
    }
   ],
   "source": [
    "df = data.copy()\n",
    "df.dropna(axis=0, inplace=True)\n",
    "df.isna().sum()"
   ]
  },
  {
   "cell_type": "code",
   "execution_count": 4,
   "id": "204d19f1",
   "metadata": {
    "execution": {
     "iopub.execute_input": "2021-11-01T12:33:12.314612Z",
     "iopub.status.busy": "2021-11-01T12:33:12.314036Z",
     "iopub.status.idle": "2021-11-01T12:33:12.361306Z",
     "shell.execute_reply": "2021-11-01T12:33:12.361796Z",
     "shell.execute_reply.started": "2021-11-01T12:26:03.582742Z"
    },
    "papermill": {
     "duration": 0.071395,
     "end_time": "2021-11-01T12:33:12.361983",
     "exception": false,
     "start_time": "2021-11-01T12:33:12.290588",
     "status": "completed"
    },
    "tags": []
   },
   "outputs": [
    {
     "data": {
      "text/plain": [
       "Rice                 15082\n",
       "Maize                13787\n",
       "Moong(Green Gram)    10106\n",
       "Urad                  9710\n",
       "Sesamum               8821\n",
       "                     ...  \n",
       "Litchi                   6\n",
       "Coffee                   6\n",
       "Apple                    4\n",
       "Peach                    4\n",
       "Other Dry Fruit          1\n",
       "Name: Crop, Length: 124, dtype: int64"
      ]
     },
     "execution_count": 4,
     "metadata": {},
     "output_type": "execute_result"
    }
   ],
   "source": [
    "df[\"Crop\"].value_counts()"
   ]
  },
  {
   "cell_type": "code",
   "execution_count": 5,
   "id": "23a62993",
   "metadata": {
    "execution": {
     "iopub.execute_input": "2021-11-01T12:33:12.458767Z",
     "iopub.status.busy": "2021-11-01T12:33:12.458123Z",
     "iopub.status.idle": "2021-11-01T12:33:12.474883Z",
     "shell.execute_reply": "2021-11-01T12:33:12.474368Z",
     "shell.execute_reply.started": "2021-11-01T12:26:03.629559Z"
    },
    "papermill": {
     "duration": 0.0917,
     "end_time": "2021-11-01T12:33:12.475039",
     "exception": false,
     "start_time": "2021-11-01T12:33:12.383339",
     "status": "completed"
    },
    "tags": []
   },
   "outputs": [],
   "source": [
    "crop_count = df[\"Crop\"].value_counts()\n",
    "df = df.loc[df[\"Crop\"].isin(crop_count.index[crop_count > 1500])]"
   ]
  },
  {
   "cell_type": "markdown",
   "id": "cae1d76e",
   "metadata": {
    "papermill": {
     "duration": 0.021348,
     "end_time": "2021-11-01T12:33:12.518003",
     "exception": false,
     "start_time": "2021-11-01T12:33:12.496655",
     "status": "completed"
    },
    "tags": []
   },
   "source": [
    "# Seperating rice (🍚) from other crops "
   ]
  },
  {
   "cell_type": "code",
   "execution_count": 6,
   "id": "1ed9e23c",
   "metadata": {
    "execution": {
     "iopub.execute_input": "2021-11-01T12:33:12.564074Z",
     "iopub.status.busy": "2021-11-01T12:33:12.563453Z",
     "iopub.status.idle": "2021-11-01T12:33:12.616688Z",
     "shell.execute_reply": "2021-11-01T12:33:12.617418Z",
     "shell.execute_reply.started": "2021-11-01T12:26:03.698019Z"
    },
    "papermill": {
     "duration": 0.078244,
     "end_time": "2021-11-01T12:33:12.617661",
     "exception": false,
     "start_time": "2021-11-01T12:33:12.539417",
     "status": "completed"
    },
    "tags": []
   },
   "outputs": [
    {
     "name": "stderr",
     "output_type": "stream",
     "text": [
      "C:\\Users\\prsdj\\AppData\\Local\\Temp/ipykernel_15352/4125679075.py:2: SettingWithCopyWarning: \n",
      "A value is trying to be set on a copy of a slice from a DataFrame.\n",
      "Try using .loc[row_indexer,col_indexer] = value instead\n",
      "\n",
      "See the caveats in the documentation: https://pandas.pydata.org/pandas-docs/stable/user_guide/indexing.html#returning-a-view-versus-a-copy\n",
      "  Rice[\"production\"] = Rice[\"Production\"]/10000\n"
     ]
    },
    {
     "data": {
      "text/html": [
       "<div>\n",
       "<style scoped>\n",
       "    .dataframe tbody tr th:only-of-type {\n",
       "        vertical-align: middle;\n",
       "    }\n",
       "\n",
       "    .dataframe tbody tr th {\n",
       "        vertical-align: top;\n",
       "    }\n",
       "\n",
       "    .dataframe thead th {\n",
       "        text-align: right;\n",
       "    }\n",
       "</style>\n",
       "<table border=\"1\" class=\"dataframe\">\n",
       "  <thead>\n",
       "    <tr style=\"text-align: right;\">\n",
       "      <th></th>\n",
       "      <th>State_Name</th>\n",
       "      <th>District_Name</th>\n",
       "      <th>Crop_Year</th>\n",
       "      <th>Season</th>\n",
       "      <th>Crop</th>\n",
       "      <th>Area</th>\n",
       "      <th>Production</th>\n",
       "      <th>production</th>\n",
       "    </tr>\n",
       "  </thead>\n",
       "  <tbody>\n",
       "    <tr>\n",
       "      <th>2</th>\n",
       "      <td>Andaman and Nicobar Islands</td>\n",
       "      <td>NICOBARS</td>\n",
       "      <td>2000</td>\n",
       "      <td>Kharif</td>\n",
       "      <td>Rice</td>\n",
       "      <td>102.00</td>\n",
       "      <td>321.00</td>\n",
       "      <td>0.032100</td>\n",
       "    </tr>\n",
       "    <tr>\n",
       "      <th>12</th>\n",
       "      <td>Andaman and Nicobar Islands</td>\n",
       "      <td>NICOBARS</td>\n",
       "      <td>2001</td>\n",
       "      <td>Kharif</td>\n",
       "      <td>Rice</td>\n",
       "      <td>83.00</td>\n",
       "      <td>300.00</td>\n",
       "      <td>0.030000</td>\n",
       "    </tr>\n",
       "    <tr>\n",
       "      <th>18</th>\n",
       "      <td>Andaman and Nicobar Islands</td>\n",
       "      <td>NICOBARS</td>\n",
       "      <td>2002</td>\n",
       "      <td>Kharif</td>\n",
       "      <td>Rice</td>\n",
       "      <td>189.20</td>\n",
       "      <td>510.84</td>\n",
       "      <td>0.051084</td>\n",
       "    </tr>\n",
       "    <tr>\n",
       "      <th>27</th>\n",
       "      <td>Andaman and Nicobar Islands</td>\n",
       "      <td>NICOBARS</td>\n",
       "      <td>2003</td>\n",
       "      <td>Kharif</td>\n",
       "      <td>Rice</td>\n",
       "      <td>52.00</td>\n",
       "      <td>90.17</td>\n",
       "      <td>0.009017</td>\n",
       "    </tr>\n",
       "    <tr>\n",
       "      <th>36</th>\n",
       "      <td>Andaman and Nicobar Islands</td>\n",
       "      <td>NICOBARS</td>\n",
       "      <td>2004</td>\n",
       "      <td>Kharif</td>\n",
       "      <td>Rice</td>\n",
       "      <td>52.94</td>\n",
       "      <td>72.57</td>\n",
       "      <td>0.007257</td>\n",
       "    </tr>\n",
       "  </tbody>\n",
       "</table>\n",
       "</div>"
      ],
      "text/plain": [
       "                     State_Name District_Name  Crop_Year       Season  Crop  \\\n",
       "2   Andaman and Nicobar Islands      NICOBARS       2000  Kharif       Rice   \n",
       "12  Andaman and Nicobar Islands      NICOBARS       2001  Kharif       Rice   \n",
       "18  Andaman and Nicobar Islands      NICOBARS       2002  Kharif       Rice   \n",
       "27  Andaman and Nicobar Islands      NICOBARS       2003  Kharif       Rice   \n",
       "36  Andaman and Nicobar Islands      NICOBARS       2004  Kharif       Rice   \n",
       "\n",
       "      Area  Production  production  \n",
       "2   102.00      321.00    0.032100  \n",
       "12   83.00      300.00    0.030000  \n",
       "18  189.20      510.84    0.051084  \n",
       "27   52.00       90.17    0.009017  \n",
       "36   52.94       72.57    0.007257  "
      ]
     },
     "execution_count": 6,
     "metadata": {},
     "output_type": "execute_result"
    }
   ],
   "source": [
    "Rice = df[(df[\"Crop\"] == \"Rice\")]\n",
    "Rice[\"production\"] = Rice[\"Production\"]/10000\n",
    "Rice.head()"
   ]
  },
  {
   "cell_type": "markdown",
   "id": "ea02eb28",
   "metadata": {
    "papermill": {
     "duration": 0.021704,
     "end_time": "2021-11-01T12:33:12.662131",
     "exception": false,
     "start_time": "2021-11-01T12:33:12.640427",
     "status": "completed"
    },
    "tags": []
   },
   "source": [
    "**Regression plot :**"
   ]
  },
  {
   "cell_type": "code",
   "execution_count": 7,
   "id": "d23a6700",
   "metadata": {
    "execution": {
     "iopub.execute_input": "2021-11-01T12:33:12.710558Z",
     "iopub.status.busy": "2021-11-01T12:33:12.709608Z",
     "iopub.status.idle": "2021-11-01T12:33:13.886108Z",
     "shell.execute_reply": "2021-11-01T12:33:13.886640Z",
     "shell.execute_reply.started": "2021-11-01T12:26:03.755101Z"
    },
    "papermill": {
     "duration": 1.202348,
     "end_time": "2021-11-01T12:33:13.886806",
     "exception": false,
     "start_time": "2021-11-01T12:33:12.684458",
     "status": "completed"
    },
    "tags": []
   },
   "outputs": [
    {
     "name": "stderr",
     "output_type": "stream",
     "text": [
      "C:\\ProgramData\\Anaconda3\\lib\\site-packages\\seaborn\\_decorators.py:36: FutureWarning: Pass the following variables as keyword args: x, y. From version 0.12, the only valid positional argument will be `data`, and passing other arguments without an explicit keyword will result in an error or misinterpretation.\n",
      "  warnings.warn(\n"
     ]
    },
    {
     "data": {
      "image/png": "[encoded data removed]",
      "text/plain": [
       "<Figure size 1008x720 with 1 Axes>"
      ]
     },
     "metadata": {
      "needs_background": "light"
     },
     "output_type": "display_data"
    }
   ],
   "source": [
    "plt.figure(figsize=(14, 10))\n",
    "sns.regplot(Rice[\"Area\"], Rice[\"production\"])\n",
    "plt.show()"
   ]
  },
  {
   "cell_type": "code",
   "execution_count": 8,
   "id": "7bdd55fa",
   "metadata": {
    "execution": {
     "iopub.execute_input": "2021-11-01T12:33:13.944822Z",
     "iopub.status.busy": "2021-11-01T12:33:13.944180Z",
     "iopub.status.idle": "2021-11-01T12:33:13.946591Z",
     "shell.execute_reply": "2021-11-01T12:33:13.945993Z",
     "shell.execute_reply.started": "2021-11-01T12:26:04.793711Z"
    },
    "papermill": {
     "duration": 0.034025,
     "end_time": "2021-11-01T12:33:13.946726",
     "exception": false,
     "start_time": "2021-11-01T12:33:13.912701",
     "status": "completed"
    },
    "tags": []
   },
   "outputs": [],
   "source": [
    "dt = Rice.copy()"
   ]
  },
  {
   "cell_type": "markdown",
   "id": "47614703",
   "metadata": {
    "papermill": {
     "duration": 0.02565,
     "end_time": "2021-11-01T12:33:13.998310",
     "exception": false,
     "start_time": "2021-11-01T12:33:13.972660",
     "status": "completed"
    },
    "tags": []
   },
   "source": [
    "# Preprocessing and splitting labels and targets"
   ]
  },
  {
   "cell_type": "code",
   "execution_count": 9,
   "id": "abf02c77",
   "metadata": {
    "execution": {
     "iopub.execute_input": "2021-11-01T12:33:14.056259Z",
     "iopub.status.busy": "2021-11-01T12:33:14.055545Z",
     "iopub.status.idle": "2021-11-01T12:33:14.189939Z",
     "shell.execute_reply": "2021-11-01T12:33:14.189244Z",
     "shell.execute_reply.started": "2021-11-01T12:26:04.803680Z"
    },
    "papermill": {
     "duration": 0.165512,
     "end_time": "2021-11-01T12:33:14.190093",
     "exception": false,
     "start_time": "2021-11-01T12:33:14.024581",
     "status": "completed"
    },
    "tags": []
   },
   "outputs": [],
   "source": [
    "from sklearn.preprocessing import LabelEncoder, OneHotEncoder, MinMaxScaler\n",
    "le = LabelEncoder()\n",
    "scaler = MinMaxScaler()\n",
    "dt[\"district\"] = le.fit_transform(dt[\"District_Name\"])\n",
    "dt['season'] = le.fit_transform(dt[\"Season\"])\n",
    "dt[\"area\"] = scaler.fit_transform(dt[[\"Area\"]])\n",
    "dt[\"state\"] = le.fit_transform(dt[\"State_Name\"])"
   ]
  },
  {
   "cell_type": "code",
   "execution_count": 10,
   "id": "0e0752cc",
   "metadata": {
    "execution": {
     "iopub.execute_input": "2021-11-01T12:33:14.250612Z",
     "iopub.status.busy": "2021-11-01T12:33:14.249940Z",
     "iopub.status.idle": "2021-11-01T12:33:14.252606Z",
     "shell.execute_reply": "2021-11-01T12:33:14.251871Z",
     "shell.execute_reply.started": "2021-11-01T12:26:04.854701Z"
    },
    "papermill": {
     "duration": 0.034606,
     "end_time": "2021-11-01T12:33:14.252784",
     "exception": false,
     "start_time": "2021-11-01T12:33:14.218178",
     "status": "completed"
    },
    "tags": []
   },
   "outputs": [],
   "source": [
    "X = dt[[\"area\", \"district\", \"season\", \"state\"]]\n",
    "y = dt[\"Production\"]"
   ]
  },
  {
   "cell_type": "code",
   "execution_count": 11,
   "id": "fc95a7c0",
   "metadata": {
    "execution": {
     "iopub.execute_input": "2021-11-01T12:33:14.311427Z",
     "iopub.status.busy": "2021-11-01T12:33:14.310760Z",
     "iopub.status.idle": "2021-11-01T12:33:14.545161Z",
     "shell.execute_reply": "2021-11-01T12:33:14.544559Z",
     "shell.execute_reply.started": "2021-11-01T12:26:04.861696Z"
    },
    "papermill": {
     "duration": 0.26627,
     "end_time": "2021-11-01T12:33:14.545304",
     "exception": false,
     "start_time": "2021-11-01T12:33:14.279034",
     "status": "completed"
    },
    "tags": []
   },
   "outputs": [],
   "source": [
    "from sklearn.model_selection import train_test_split, cross_val_score\n",
    "from sklearn.linear_model import LinearRegression, Ridge, Lasso\n",
    "from sklearn.tree import DecisionTreeRegressor\n",
    "from sklearn.ensemble import RandomForestRegressor, BaggingRegressor, AdaBoostRegressor\n",
    "from sklearn.naive_bayes import GaussianNB\n",
    "from sklearn.svm import SVR"
   ]
  },
  {
   "cell_type": "markdown",
   "id": "4e389e2a",
   "metadata": {
    "papermill": {
     "duration": 0.02492,
     "end_time": "2021-11-01T12:33:14.595653",
     "exception": false,
     "start_time": "2021-11-01T12:33:14.570733",
     "status": "completed"
    },
    "tags": []
   },
   "source": [
    "# Model building and scoring"
   ]
  },
  {
   "cell_type": "code",
   "execution_count": 12,
   "id": "285fb2eb",
   "metadata": {
    "execution": {
     "iopub.execute_input": "2021-11-01T12:33:14.654127Z",
     "iopub.status.busy": "2021-11-01T12:33:14.653483Z",
     "iopub.status.idle": "2021-11-01T12:33:17.905489Z",
     "shell.execute_reply": "2021-11-01T12:33:17.904878Z",
     "shell.execute_reply.started": "2021-11-01T12:26:04.872616Z"
    },
    "papermill": {
     "duration": 3.284759,
     "end_time": "2021-11-01T12:33:17.905637",
     "exception": false,
     "start_time": "2021-11-01T12:33:14.620878",
     "status": "completed"
    },
    "tags": []
   },
   "outputs": [
    {
     "name": "stdout",
     "output_type": "stream",
     "text": [
      "0.9503005334292955\n"
     ]
    }
   ],
   "source": [
    "X_train, X_test, y_train, y_test = train_test_split(X, y, test_size=0.15)\n",
    "model = RandomForestRegressor()\n",
    "model.fit(X_train, y_train)\n",
    "print(model.score(X_test, y_test))"
   ]
  },
  {
   "cell_type": "markdown",
   "id": "c13a49bd",
   "metadata": {
    "papermill": {
     "duration": 0.025546,
     "end_time": "2021-11-01T12:33:17.957117",
     "exception": false,
     "start_time": "2021-11-01T12:33:17.931571",
     "status": "completed"
    },
    "tags": []
   },
   "source": [
    "# Wheat "
   ]
  },
  {
   "cell_type": "code",
   "execution_count": 13,
   "id": "15d973ef",
   "metadata": {
    "execution": {
     "iopub.execute_input": "2021-11-01T12:33:18.050751Z",
     "iopub.status.busy": "2021-11-01T12:33:18.050115Z",
     "iopub.status.idle": "2021-11-01T12:33:18.056413Z",
     "shell.execute_reply": "2021-11-01T12:33:18.055860Z",
     "shell.execute_reply.started": "2021-11-01T12:26:08.121892Z"
    },
    "papermill": {
     "duration": 0.073722,
     "end_time": "2021-11-01T12:33:18.056551",
     "exception": false,
     "start_time": "2021-11-01T12:33:17.982829",
     "status": "completed"
    },
    "tags": []
   },
   "outputs": [],
   "source": [
    "wheat = data[data[\"Crop\"] == \"Wheat\"]"
   ]
  },
  {
   "cell_type": "code",
   "execution_count": 14,
   "id": "aff7b1d5",
   "metadata": {
    "execution": {
     "iopub.execute_input": "2021-11-01T12:33:18.120779Z",
     "iopub.status.busy": "2021-11-01T12:33:18.120157Z",
     "iopub.status.idle": "2021-11-01T12:33:18.126857Z",
     "shell.execute_reply": "2021-11-01T12:33:18.126293Z",
     "shell.execute_reply.started": "2021-11-01T12:26:08.168353Z"
    },
    "papermill": {
     "duration": 0.044607,
     "end_time": "2021-11-01T12:33:18.127006",
     "exception": false,
     "start_time": "2021-11-01T12:33:18.082399",
     "status": "completed"
    },
    "tags": []
   },
   "outputs": [],
   "source": [
    "wheat1 = wheat.copy()\n",
    "wheat1['prod'] = wheat[\"Production\"]/1000\n",
    "wheat1[\"area\"] = wheat[\"Area\"]/1000\n",
    "wheat1.dropna(inplace=True)"
   ]
  },
  {
   "cell_type": "code",
   "execution_count": 15,
   "id": "69d371ca",
   "metadata": {
    "execution": {
     "iopub.execute_input": "2021-11-01T12:33:18.194174Z",
     "iopub.status.busy": "2021-11-01T12:33:18.193499Z",
     "iopub.status.idle": "2021-11-01T12:33:18.195834Z",
     "shell.execute_reply": "2021-11-01T12:33:18.196337Z",
     "shell.execute_reply.started": "2021-11-01T12:26:08.188712Z"
    },
    "papermill": {
     "duration": 0.043772,
     "end_time": "2021-11-01T12:33:18.196515",
     "exception": false,
     "start_time": "2021-11-01T12:33:18.152743",
     "status": "completed"
    },
    "tags": []
   },
   "outputs": [],
   "source": [
    "wheat1[\"season\"] = le.fit_transform(wheat1[\"Season\"])\n",
    "wheat1[\"dist\"] = le.fit_transform(wheat1[\"District_Name\"])\n",
    "wheat1[\"state\"] = le.fit_transform(wheat1[\"State_Name\"])"
   ]
  },
  {
   "cell_type": "code",
   "execution_count": 16,
   "id": "63835abd",
   "metadata": {
    "execution": {
     "iopub.execute_input": "2021-11-01T12:33:18.251406Z",
     "iopub.status.busy": "2021-11-01T12:33:18.250734Z",
     "iopub.status.idle": "2021-11-01T12:33:18.257328Z",
     "shell.execute_reply": "2021-11-01T12:33:18.257833Z",
     "shell.execute_reply.started": "2021-11-01T12:26:08.207400Z"
    },
    "papermill": {
     "duration": 0.035813,
     "end_time": "2021-11-01T12:33:18.258014",
     "exception": false,
     "start_time": "2021-11-01T12:33:18.222201",
     "status": "completed"
    },
    "tags": []
   },
   "outputs": [],
   "source": [
    "X = wheat1[[\"area\", \"season\", \"dist\", \"state\"]]\n",
    "y = wheat1['prod']\n",
    "X_train, X_test, y_train, y_test = train_test_split(X, y, test_size=0.15)"
   ]
  },
  {
   "cell_type": "code",
   "execution_count": 17,
   "id": "54b2a765",
   "metadata": {
    "execution": {
     "iopub.execute_input": "2021-11-01T12:33:18.312944Z",
     "iopub.status.busy": "2021-11-01T12:33:18.312298Z",
     "iopub.status.idle": "2021-11-01T12:33:19.864829Z",
     "shell.execute_reply": "2021-11-01T12:33:19.864280Z",
     "shell.execute_reply.started": "2021-11-01T12:26:08.223086Z"
    },
    "papermill": {
     "duration": 1.581295,
     "end_time": "2021-11-01T12:33:19.865027",
     "exception": false,
     "start_time": "2021-11-01T12:33:18.283732",
     "status": "completed"
    },
    "tags": []
   },
   "outputs": [
    {
     "name": "stdout",
     "output_type": "stream",
     "text": [
      "0.9727892175556173\n"
     ]
    }
   ],
   "source": [
    "model = RandomForestRegressor(n_estimators=100)\n",
    "model.fit(X_train, y_train)\n",
    "print(model.score(X_test, y_test))"
   ]
  },
  {
   "cell_type": "markdown",
   "id": "67038354",
   "metadata": {
    "papermill": {
     "duration": 0.026918,
     "end_time": "2021-11-01T12:33:19.918195",
     "exception": false,
     "start_time": "2021-11-01T12:33:19.891277",
     "status": "completed"
    },
    "tags": []
   },
   "source": [
    "***It's very inaccurate to predict production for different crops.\n",
    "But it's very precise to prdict production for a single crop.***"
   ]
  },
  {
   "cell_type": "markdown",
   "id": "9053818a",
   "metadata": {
    "papermill": {
     "duration": 0.026084,
     "end_time": "2021-11-01T12:33:19.970730",
     "exception": false,
     "start_time": "2021-11-01T12:33:19.944646",
     "status": "completed"
    },
    "tags": []
   },
   "source": [
    "*If you like this notebook, upvote it.*"
   ]
  },
  {
   "cell_type": "markdown",
   "id": "15e4ed19",
   "metadata": {
    "papermill": {
     "duration": 0.025865,
     "end_time": "2021-11-01T12:33:20.022940",
     "exception": false,
     "start_time": "2021-11-01T12:33:19.997075",
     "status": "completed"
    },
    "tags": []
   },
   "source": [
    "*Any sugesions in the comments below*"
   ]
  }
 ],
 "metadata": {
  "kernelspec": {
   "display_name": "Python 3 (ipykernel)",
   "language": "python",
   "name": "python3"
  },
  "language_info": {
   "codemirror_mode": {
    "name": "ipython",
    "version": 3
   },
   "file_extension": ".py",
   "mimetype": "text/x-python",
   "name": "python",
   "nbconvert_exporter": "python",
   "pygments_lexer": "ipython3",
   "version": "3.8.8"
  },
  "papermill": {
   "default_parameters": {},
   "duration": 19.497092,
   "end_time": "2021-11-01T12:33:20.759586",
   "environment_variables": {},
   "exception": null,
   "input_path": "__notebook__.ipynb",
   "output_path": "__notebook__.ipynb",
   "parameters": {},
   "start_time": "2021-11-01T12:33:01.262494",
   "version": "2.3.3"
  }
 },
 "nbformat": 4,
 "nbformat_minor": 5
}
